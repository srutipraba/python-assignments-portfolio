{
 "cells": [
  {
   "cell_type": "code",
   "execution_count": 2,
   "metadata": {},
   "outputs": [],
   "source": [
    "import numpy as np\n",
    "from scipy.special import gamma\n",
    "def t_distribution_pdf(x, nu=9):\n",
    "    coeff = gamma((nu + 1) / 2) / (np.sqrt(nu * np.pi) * gamma(nu / 2))\n",
    "    density = coeff * (1 + x**2 / nu) ** (-0.5 * (nu + 1))\n",
    "    return density"
   ]
  },
  {
   "cell_type": "code",
   "execution_count": 3,
   "metadata": {},
   "outputs": [],
   "source": [
    "sample_test_scores=[92.64,79.00,84.79,97.41,93.68,65.23,84.50,73.49,73.97,79.11]\n",
    "\n",
    "number_of_samples=len(sample_test_scores)\n",
    "\n",
    "def t_test():\n",
    "    def mean():\n",
    "        addition=0\n",
    "        for each_test_score in sample_test_scores:\n",
    "            addition+=each_test_score\n",
    "        mean=addition/number_of_samples\n",
    "        return mean\n",
    "    #computes the mean for the sample of test scores\n",
    "\n",
    "    mean_value=mean()\n",
    "\n",
    "    def standard_deviation():\n",
    "        summa=0\n",
    "        for each_test_score in sample_test_scores:\n",
    "            summa=summa+(each_test_score-mean_value)**2\n",
    "        standard_deviation=np.sqrt((1/((number_of_samples)-1))*(summa))\n",
    "        return standard_deviation\n",
    "\n",
    "    standard_deviation_value=standard_deviation()\n",
    "    #computes the standard deviation for the sample of test scores\n",
    "\n",
    "    def t_naught():\n",
    "            t_naught_function=(mean_value-75)/(standard_deviation_value/np.sqrt(number_of_samples))\n",
    "            return t_naught_function\n",
    "    #t_naught was found using the formula provided in the assignment pack\n",
    "\n",
    "    t_naught_value=t_naught()\n",
    "\n",
    "    def find_t_star(prob=0.95, nu=9, x_start=0, x_end=20, num_points=10000):\n",
    "        # Define the x values\n",
    "        x = np.linspace(x_start, x_end, num_points)\n",
    "        # Apply the density function to the x values\n",
    "        y = t_distribution_pdf(x, nu)\n",
    "        # This next line is the integration (exercise: why does this work?)\n",
    "        cdf = np.cumsum(y) * (x[1] - x[0])\n",
    "        # Find the t-value where the cumulative probability reaches half of the\n",
    "        #required probability\n",
    "        target_half_prob = prob / 2\n",
    "        index = np.where(cdf >= target_half_prob)[0][0]\n",
    "        t_star=x[index]\n",
    "        return t_star\n",
    "\n",
    "    t_star_value=find_t_star()\n",
    "    #used so we can access t_star_value outside of the def find_t_star\n",
    "\n",
    "    def using_t_naught_and_t_star(t_naught_value, t_star_value):\n",
    "        if t_naught_value >= -t_star_value and t_naught_value <= t_star_value:\n",
    "            return True\n",
    "        else:\n",
    "            return False\n",
    "    final_output=using_t_naught_and_t_star(t_naught_value, t_star_value)\n",
    "    return final_output\n",
    "    #computes to see if the t_naught_value is really greater than/equal to AND less than/equal to t-star value, in which case it would be true. Otherwise, the t-test reports that it is False."
   ]
  },
  {
   "cell_type": "code",
   "execution_count": 4,
   "metadata": {},
   "outputs": [
    {
     "data": {
      "text/plain": [
       "False"
      ]
     },
     "execution_count": 4,
     "metadata": {},
     "output_type": "execute_result"
    }
   ],
   "source": [
    "t_test()"
   ]
  }
 ],
 "metadata": {
  "kernelspec": {
   "display_name": "Python 3",
   "language": "python",
   "name": "python3"
  },
  "language_info": {
   "codemirror_mode": {
    "name": "ipython",
    "version": 3
   },
   "file_extension": ".py",
   "mimetype": "text/x-python",
   "name": "python",
   "nbconvert_exporter": "python",
   "pygments_lexer": "ipython3",
   "version": "3.12.1"
  }
 },
 "nbformat": 4,
 "nbformat_minor": 2
}
