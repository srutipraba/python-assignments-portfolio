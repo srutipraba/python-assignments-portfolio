{
 "cells": [
  {
   "cell_type": "code",
   "execution_count": 12,
   "metadata": {},
   "outputs": [],
   "source": [
    "import numpy as np\n",
    "def roots (func,a,b):\n",
    "    def f(x):\n",
    "        h=eval(func)\n",
    "        return h\n",
    "#this takes the inputted function and evaluates it\n",
    "    fd=f(a)\n",
    "    fe=f(b)\n",
    "#assigning variables for either functions\n",
    "    if fd*fe>=0:\n",
    "        print('f(a) and f(b) do not have different signs')\n",
    "        return\n",
    "#if function a and function b have the same sign, their product has to be positive\n",
    "    #exits program entirely\n",
    "    for i in range(100):\n",
    "        c=(a+b)/2 #computes the midpoint between a and b, as per the bisection method\n",
    "        ff=f(c) #computes the y value for the given c point\n",
    "        if ff==0:\n",
    "            break #if it equals 0, then the root has been found!\n",
    "        elif fd*ff>0:\n",
    "            a=c #make c the new lower bound, a, so that the loop re-computes the midpoint\n",
    "            #fd=ff #make fd the new ff\n",
    "        elif fe*ff>0:\n",
    "            b=c\n",
    "            #fe=ff\n",
    "    return round (c,10)\n",
    "#checks to see if f(x)=0 through bisection"
   ]
  },
  {
   "cell_type": "code",
   "execution_count": 4,
   "metadata": {},
   "outputs": [
    {
     "name": "stderr",
     "output_type": "stream",
     "text": [
      "<string>:1: RuntimeWarning: divide by zero encountered in log\n"
     ]
    },
    {
     "data": {
      "text/plain": [
       "0.2698741376"
      ]
     },
     "execution_count": 4,
     "metadata": {},
     "output_type": "execute_result"
    }
   ],
   "source": [
    "roots(\"np.e**(x)+np.log(x)\",0,1)"
   ]
  },
  {
   "cell_type": "code",
   "execution_count": 9,
   "metadata": {},
   "outputs": [
    {
     "name": "stdout",
     "output_type": "stream",
     "text": [
      "f(a) and f(b) do not have different signs\n"
     ]
    }
   ],
   "source": [
    "roots(\"np.arctan(x)-x**2\",0,2)"
   ]
  },
  {
   "cell_type": "code",
   "execution_count": 10,
   "metadata": {},
   "outputs": [
    {
     "data": {
      "text/plain": [
       "3.1415926536"
      ]
     },
     "execution_count": 10,
     "metadata": {},
     "output_type": "execute_result"
    }
   ],
   "source": [
    "roots(\"np.sin(x)/np.log(x)\",3,4)"
   ]
  },
  {
   "cell_type": "code",
   "execution_count": 11,
   "metadata": {},
   "outputs": [
    {
     "name": "stdout",
     "output_type": "stream",
     "text": [
      "f(a) and f(b) do not have different signs\n"
     ]
    }
   ],
   "source": [
    "roots(\"np.log(np.cos(x))\",5,7)"
   ]
  },
  {
   "cell_type": "code",
   "execution_count": null,
   "metadata": {},
   "outputs": [],
   "source": []
  }
 ],
 "metadata": {
  "kernelspec": {
   "display_name": "Python 3",
   "language": "python",
   "name": "python3"
  },
  "language_info": {
   "codemirror_mode": {
    "name": "ipython",
    "version": 3
   },
   "file_extension": ".py",
   "mimetype": "text/x-python",
   "name": "python",
   "nbconvert_exporter": "python",
   "pygments_lexer": "ipython3",
   "version": "3.12.1"
  }
 },
 "nbformat": 4,
 "nbformat_minor": 2
}
