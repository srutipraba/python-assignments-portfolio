{
 "cells": [
  {
   "cell_type": "code",
   "execution_count": null,
   "id": "ad7a1ced-93dd-4b5a-b1b1-67aef5306104",
   "metadata": {},
   "outputs": [],
   "source": [
    "import numpy as np\n",
    "def roots (func,a,b):\n",
    "    def f(x):\n",
    "        h=eval(function)\n",
    "        return h\n",
    "#this takes the inputted function and evaluates it\n",
    "    fd=f(a)\n",
    "    fe=f(b)\n",
    "#assigning variables for either functions\n",
    "    if fd*fe>=0:\n",
    "        print('f(a) and f(b) do not have different signs')\n",
    "#if function a and function b have the same sign, their product has to be positive\n",
    "    for i in range(100):\n",
    "        c=(a+b)/2\n",
    "        ff=f(c)\n",
    "        if ff==0:\n",
    "            break\n",
    "        elif fd*ff>0:\n",
    "            a=c\n",
    "            fd=ff\n",
    "        elif fe*ff>0:\n",
    "            b=c\n",
    "            fe=ff\n",
    "    return round (c,10)\n",
    "#checks to see if f(x)=0 through bisection\n",
    "\n",
    "\n"
   ]
  }
 ],
 "metadata": {
  "kernelspec": {
   "display_name": "Python 3 (ipykernel)",
   "language": "python",
   "name": "python3"
  },
  "language_info": {
   "codemirror_mode": {
    "name": "ipython",
    "version": 3
   },
   "file_extension": ".py",
   "mimetype": "text/x-python",
   "name": "python",
   "nbconvert_exporter": "python",
   "pygments_lexer": "ipython3",
   "version": "3.11.4"
  }
 },
 "nbformat": 4,
 "nbformat_minor": 5
}
