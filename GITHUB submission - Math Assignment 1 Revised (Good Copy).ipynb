{
 "cells": [
  {
   "cell_type": "code",
   "execution_count": 52,
   "id": "3f789f45",
   "metadata": {},
   "outputs": [
    {
     "data": {
      "text/plain": [
       "0.19739555984988075"
      ]
     },
     "execution_count": 52,
     "metadata": {},
     "output_type": "execute_result"
    }
   ],
   "source": [
    "import numpy as np\n",
    "np.arctan(0.2)"
   ]
  },
  {
   "cell_type": "code",
   "execution_count": 37,
   "id": "25c74571-e4f3-4435-8cc9-356959785634",
   "metadata": {},
   "outputs": [],
   "source": [
    "def hello(x):\n",
    "    if 0<=x<=1:\n",
    "        n=0\n",
    "        a=0\n",
    "        error_bound=(x**(2*n+1))/(2*n+1)\n",
    "        #this find the error bound with respect to x and n\n",
    "        \n",
    "        while error_bound>=0.0001:\n",
    "            n+=1 #everytime the resultant error bound is greater than 0.0001, n will be increased by one and the loop will run again\n",
    "            a=0\n",
    "            for i in range(n):\n",
    "                a+=((-1)**i*x**(2*i+1))/(2*i+1) #computes the arctan function for a specific x and with the iteration of i\n",
    "            error_bound=(x**(2*n+1))/(2*n+1) #computes the error bound for the given n\n",
    "        #while the error bound still exists, we want to run a loop through the range of n \n",
    "        #until n results in an error bound that is greater than or equal to 0.0001. Otherwise, it will loop through the code again\n",
    "        \n",
    "        print((a,n,error_bound))\n",
    "    else:\n",
    "        print(\"Error!\") "
   ]
  },
  {
   "cell_type": "code",
   "execution_count": 23,
   "id": "a6f40aa6",
   "metadata": {},
   "outputs": [
    {
     "name": "stdout",
     "output_type": "stream",
     "text": [
      "Error!\n"
     ]
    }
   ],
   "source": [
    "hello(-1)"
   ]
  },
  {
   "cell_type": "code",
   "execution_count": 38,
   "id": "5e39b32a",
   "metadata": {},
   "outputs": [
    {
     "name": "stdout",
     "output_type": "stream",
     "text": [
      "(0, 0, 0.0)\n"
     ]
    }
   ],
   "source": [
    "hello(0)"
   ]
  },
  {
   "cell_type": "code",
   "execution_count": 39,
   "id": "1d916362",
   "metadata": {},
   "outputs": [
    {
     "name": "stdout",
     "output_type": "stream",
     "text": [
      "(0.24498697916666665, 3, 8.719308035714285e-06)\n"
     ]
    }
   ],
   "source": [
    "hello(0.25)"
   ]
  },
  {
   "cell_type": "code",
   "execution_count": 41,
   "id": "ba7d475f",
   "metadata": {},
   "outputs": [
    {
     "name": "stdout",
     "output_type": "stream",
     "text": [
      "(0.46368427579365074, 5, 4.438920454545455e-05)\n"
     ]
    }
   ],
   "source": [
    "hello(0.5)"
   ]
  },
  {
   "cell_type": "code",
   "execution_count": 42,
   "id": "37c9b1b8",
   "metadata": {},
   "outputs": [
    {
     "name": "stdout",
     "output_type": "stream",
     "text": [
      "(0.6435394700943785, 11, 5.816761029294689e-05)\n"
     ]
    }
   ],
   "source": [
    "hello(0.75)"
   ]
  },
  {
   "cell_type": "code",
   "execution_count": 43,
   "id": "3742f0f9",
   "metadata": {},
   "outputs": [
    {
     "name": "stdout",
     "output_type": "stream",
     "text": [
      "(0.7853481633979478, 5000, 9.999000099990002e-05)\n"
     ]
    }
   ],
   "source": [
    "hello(1)"
   ]
  }
 ],
 "metadata": {
  "kernelspec": {
   "display_name": "Python 3 (ipykernel)",
   "language": "python",
   "name": "python3"
  },
  "language_info": {
   "codemirror_mode": {
    "name": "ipython",
    "version": 3
   },
   "file_extension": ".py",
   "mimetype": "text/x-python",
   "name": "python",
   "nbconvert_exporter": "python",
   "pygments_lexer": "ipython3",
   "version": "3.11.4"
  }
 },
 "nbformat": 4,
 "nbformat_minor": 5
}
