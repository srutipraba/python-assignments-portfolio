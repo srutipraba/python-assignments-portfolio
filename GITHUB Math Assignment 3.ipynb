{
 "cells": [
  {
   "cell_type": "code",
   "execution_count": 3,
   "id": "8bf44cc9",
   "metadata": {},
   "outputs": [
    {
     "name": "stdout",
     "output_type": "stream",
     "text": [
      "0.999\n",
      "1.001\n",
      "x1 is 0.999 and x2 is 1.001\n"
     ]
    }
   ],
   "source": [
    "import numpy as np\n",
    "def f(x):\n",
    "    return x**2\n",
    "#computes the function\n",
    "c=1\n",
    "E=0.1\n",
    "delx=10**(-8)\n",
    "x1=c\n",
    "x2=c\n",
    "d=0.001#is 4 decimal places reasonable? Up to you!\n",
    "def fPrime(x):\n",
    "    return (f(x+delx)-f(x-delx))/2*delx\n",
    "def L(x):\n",
    "    return f(c)+fPrime(c)*(x-c)\n",
    "#computing both the derivative of the function and the lineralization by the formula\n",
    "\n",
    "for i in range(100):\n",
    "    x1=x1-d\n",
    "    if abs(f(x1)-L(x1))<=E:\n",
    "        print(x1)\n",
    "        break\n",
    "else:\n",
    "    print (\"No such x1 can be found\")\n",
    "\n",
    "for i in range(100):\n",
    "    x2=x2+d\n",
    "    if abs(f(x2)-L(x2))<=E:\n",
    "        print(x2)\n",
    "        break\n",
    "else:\n",
    "    print (\"No such x2 can be found\") \n",
    "\n",
    "#running through each of the x values with a specified \"d\" value given in the question\n",
    "\n",
    "print(\"x1 is\",x1,\"and x2 is\",x2)\n",
    "\n"
   ]
  },
  {
   "cell_type": "code",
   "execution_count": 4,
   "id": "bc2f5472",
   "metadata": {},
   "outputs": [
    {
     "name": "stdout",
     "output_type": "stream",
     "text": [
      "0.7843981633974483\n",
      "0.7863981633974483\n",
      "x1 is 0.7843981633974483 and x2 is 0.7863981633974483\n"
     ]
    }
   ],
   "source": [
    "import numpy as np\n",
    "def f(x):\n",
    "    return np.sin(x)\n",
    "c=np.pi/4\n",
    "E=0.05\n",
    "delx=10**(-8)\n",
    "x1=c\n",
    "x2=c\n",
    "d=0.001#is 4 decimal places reasonable? Up to you!\n",
    "def fPrime(x):\n",
    "    return (f(x+delx)-f(x-delx))/2*delx\n",
    "def L(x):\n",
    "    return f(c)+fPrime(c)*(x-c)\n",
    "for i in range(100):\n",
    "    x1=x1-d\n",
    "    if abs(f(x1)-L(x1))<=E:\n",
    "        print(x1)\n",
    "        break\n",
    "else:\n",
    "    print (\"No such x1 can be found\")\n",
    "for i in range(100):\n",
    "    x2=x2+d\n",
    "    if abs(f(x2)-L(x2))<=E:\n",
    "        print(x2)\n",
    "        break\n",
    "else:\n",
    "    print (\"No such x2 can be found\") #now, we must find the equation of the line.\n",
    "print(\"x1 is\",x1,\"and x2 is\",x2)\n",
    "\n"
   ]
  },
  {
   "cell_type": "code",
   "execution_count": 5,
   "id": "64c10be8",
   "metadata": {},
   "outputs": [
    {
     "name": "stdout",
     "output_type": "stream",
     "text": [
      "-0.001\n",
      "0.001\n",
      "x1 is -0.001 and x2 is 0.001\n"
     ]
    }
   ],
   "source": [
    "import numpy as np\n",
    "def f(x):\n",
    "    return np.e**x\n",
    "c=0\n",
    "E=0.01\n",
    "delx=10**(-8)\n",
    "x1=c\n",
    "x2=c\n",
    "d=0.001#is 4 decimal places reasonable? Up to you!\n",
    "def fPrime(x):\n",
    "    return (f(x+delx)-f(x-delx))/2*delx\n",
    "def L(x):\n",
    "    return f(c)+fPrime(c)*(x-c)\n",
    "for i in range(100):\n",
    "    x1=x1-d\n",
    "    if abs(f(x1)-L(x1))<=E:\n",
    "        print(x1)\n",
    "        break\n",
    "else:\n",
    "    print (\"No such x1 can be found\")\n",
    "for i in range(100):\n",
    "    x2=x2+d\n",
    "    if abs(f(x2)-L(x2))<=E:\n",
    "        print(x2)\n",
    "        break\n",
    "else:\n",
    "    print (\"No such x2 can be found\") #now, we must find the equation of the line.\n",
    "print(\"x1 is\",x1,\"and x2 is\",x2)\n",
    "\n"
   ]
  }
 ],
 "metadata": {
  "kernelspec": {
   "display_name": "Python 3 (ipykernel)",
   "language": "python",
   "name": "python3"
  },
  "language_info": {
   "codemirror_mode": {
    "name": "ipython",
    "version": 3
   },
   "file_extension": ".py",
   "mimetype": "text/x-python",
   "name": "python",
   "nbconvert_exporter": "python",
   "pygments_lexer": "ipython3",
   "version": "3.11.4"
  }
 },
 "nbformat": 4,
 "nbformat_minor": 5
}
